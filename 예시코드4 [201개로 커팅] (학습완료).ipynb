{
  "nbformat": 4,
  "nbformat_minor": 0,
  "metadata": {
    "colab": {
      "provenance": [],
      "mount_file_id": "1YUELlitwroszd5qsM5sZ0s5CrGcKSv59",
      "authorship_tag": "ABX9TyMH3wAPQkvD0qME+iC+ADdG",
      "include_colab_link": true
    },
    "kernelspec": {
      "name": "python3",
      "display_name": "Python 3"
    },
    "language_info": {
      "name": "python"
    }
  },
  "cells": [
    {
      "cell_type": "markdown",
      "metadata": {
        "id": "view-in-github",
        "colab_type": "text"
      },
      "source": [
        "<a href=\"https://colab.research.google.com/github/ddukio/capstone6/blob/main/%EC%98%88%EC%8B%9C%EC%BD%94%EB%93%9C4%20%5B201%EA%B0%9C%EB%A1%9C%20%EC%BB%A4%ED%8C%85%5D%20(%ED%95%99%EC%8A%B5%EC%99%84%EB%A3%8C).ipynb\" target=\"_parent\"><img src=\"https://colab.research.google.com/assets/colab-badge.svg\" alt=\"Open In Colab\"/></a>"
      ]
    },
    {
      "cell_type": "code",
      "source": [
        "import random\n",
        "import numpy as np\n",
        "import scipy.io\n",
        "\n",
        "# 데이터 불러오기\n",
        "data = scipy.io.loadmat('/content/cu_ecg_small_data_50.mat')\n",
        "XTrain = data['XTrain']\n",
        "YTrain = data['YTrain']\n",
        "XTest = data['XTest']\n",
        "YTest = data['YTest']\n",
        "\n",
        "XTest_small = XTest[:201]\n",
        "YTest_small = YTest[:201]\n",
        "\n",
        "# XTrain에서 랜덤으로 3000개의 데이터를 선택하여 XTrain_small과 YTrain_small을 만듦\n",
        "# XTrain에서 랜덤으로 201개의 데이터를 선택하여 XTrain_small과 YTrain_small을 만듦\n",
        "random.seed(42)\n",
        "selected_indices = random.sample(range(len(XTrain)), 201)\n",
        "XTrain_small = XTrain[selected_indices, :2000]\n",
        "YTrain_small = YTrain[selected_indices, :]\n",
        "\n",
        "\n",
        "# 모델 생성\n",
        "model = Sequential([\n",
        "    Dense(64, activation='relu', input_shape=(2000,)),\n",
        "    Dense(32, activation='relu'),\n",
        "    Dense(1, activation='sigmoid')\n",
        "])\n",
        "\n",
        "# 모델 컴파일\n",
        "model.compile(loss='binary_crossentropy', optimizer='adam', metrics=['accuracy'])\n",
        "\n",
        "history = model.fit(XTrain_small, YTrain_small, epochs=10, batch_size=32, validation_data=(XTest_small, YTest_small))\n"
      ],
      "metadata": {
        "colab": {
          "base_uri": "https://localhost:8080/"
        },
        "id": "O6QY1FVSmK-3",
        "outputId": "4aebf819-b37b-44f3-80a4-a8ca77ba5c4f"
      },
      "execution_count": 115,
      "outputs": [
        {
          "output_type": "stream",
          "name": "stdout",
          "text": [
            "Epoch 1/10\n",
            "7/7 [==============================] - 1s 40ms/step - loss: 0.1289 - accuracy: 0.2637 - val_loss: -0.7287 - val_accuracy: 0.1990\n",
            "Epoch 2/10\n",
            "7/7 [==============================] - 0s 14ms/step - loss: -1.7404 - accuracy: 0.2985 - val_loss: -2.9460 - val_accuracy: 0.1990\n",
            "Epoch 3/10\n",
            "7/7 [==============================] - 0s 13ms/step - loss: -4.4217 - accuracy: 0.2985 - val_loss: -6.1575 - val_accuracy: 0.1990\n",
            "Epoch 4/10\n",
            "7/7 [==============================] - 0s 12ms/step - loss: -8.0812 - accuracy: 0.2985 - val_loss: -10.4178 - val_accuracy: 0.1990\n",
            "Epoch 5/10\n",
            "7/7 [==============================] - 0s 16ms/step - loss: -12.9028 - accuracy: 0.2985 - val_loss: -15.8146 - val_accuracy: 0.1990\n",
            "Epoch 6/10\n",
            "7/7 [==============================] - 0s 13ms/step - loss: -19.0316 - accuracy: 0.2985 - val_loss: -22.7375 - val_accuracy: 0.1990\n",
            "Epoch 7/10\n",
            "7/7 [==============================] - 0s 12ms/step - loss: -27.1910 - accuracy: 0.2985 - val_loss: -31.8205 - val_accuracy: 0.1990\n",
            "Epoch 8/10\n",
            "7/7 [==============================] - 0s 13ms/step - loss: -37.7285 - accuracy: 0.2985 - val_loss: -44.4399 - val_accuracy: 0.1990\n",
            "Epoch 9/10\n",
            "7/7 [==============================] - 0s 11ms/step - loss: -52.1510 - accuracy: 0.2985 - val_loss: -60.8089 - val_accuracy: 0.1990\n",
            "Epoch 10/10\n",
            "7/7 [==============================] - 0s 13ms/step - loss: -70.6579 - accuracy: 0.2985 - val_loss: -81.4040 - val_accuracy: 0.1990\n"
          ]
        }
      ]
    },
    {
      "cell_type": "code",
      "source": [
        "print(len(XTrain))\n"
      ],
      "metadata": {
        "colab": {
          "base_uri": "https://localhost:8080/"
        },
        "id": "p4uNEhqnjLCa",
        "outputId": "9254bd57-dfea-4079-8bb0-935f6e7345bd"
      },
      "execution_count": 110,
      "outputs": [
        {
          "output_type": "stream",
          "name": "stdout",
          "text": [
            "201\n"
          ]
        }
      ]
    }
  ]
}